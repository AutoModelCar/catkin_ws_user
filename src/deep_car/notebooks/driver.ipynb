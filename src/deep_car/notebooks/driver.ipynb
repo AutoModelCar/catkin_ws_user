{
 "cells": [
  {
   "cell_type": "markdown",
   "metadata": {},
   "source": [
    "## Stream video data to the NN"
   ]
  },
  {
   "cell_type": "code",
   "execution_count": 1,
   "metadata": {
    "scrolled": true
   },
   "outputs": [],
   "source": [
    "%load_ext autoreload\n",
    "%matplotlib inline\n",
    "%autoreload 2\n",
    "\n",
    "from __future__ import division\n",
    "import rospy\n",
    "import time\n",
    "import os\n",
    "import PIL\n",
    "from IPython.display import clear_output\n",
    "import matplotlib.pyplot as plt\n",
    "from scipy import misc\n",
    "import tensorflow as tf\n",
    "import numpy as np\n",
    "from deep_car.model import Model\n",
    "from deep_car.data import get_steering_delta, get_steering_hist, continuous, crop_img\n",
    "from PIL import ImageDraw, ImageFont, ImageFilter\n",
    "from sensor_msgs.msg import CompressedImage\n",
    "from std_msgs.msg import String,Int16\n",
    "from io import BytesIO"
   ]
  },
  {
   "cell_type": "code",
   "execution_count": 2,
   "metadata": {},
   "outputs": [],
   "source": [
    "rospy.init_node('PixelDriveNN')"
   ]
  },
  {
   "cell_type": "markdown",
   "metadata": {},
   "source": [
    "# DistNN\n",
    "\n",
    "This class is responsible for predicting the steering from pictures.\n",
    "The predection is based on a neuronal network which is loaded when the class get initialised."
   ]
  },
  {
   "cell_type": "code",
   "execution_count": 3,
   "metadata": {},
   "outputs": [
    {
     "name": "stdout",
     "output_type": "stream",
     "text": [
      "INFO:tensorflow:Restoring parameters from ../data/steering_model/steering_mixture_prob_exp.ckpt\n"
     ]
    }
   ],
   "source": [
    "class DistNN:\n",
    "    \n",
    "    def __init__(self):\n",
    "        gpu_options = tf.GPUOptions(allow_growth=True) \n",
    "        self.sess = tf.InteractiveSession(config=tf.ConfigProto(gpu_options=gpu_options))\n",
    "\n",
    "        saver = tf.train.import_meta_graph('../data/steering_model/steering_mixture_prob_exp.ckpt.meta')\n",
    "        saver.restore(self.sess, tf.train.latest_checkpoint('../data/steering_model/'))\n",
    "\n",
    "        graph = tf.get_default_graph()\n",
    "\n",
    "        self.x_img = graph.get_tensor_by_name(\"deep_car/image:0\")\n",
    "        self.steering_abs = graph.get_tensor_by_name(\"deep_car/steering_abs_true:0\")\n",
    "        self.steering_abs_pred = graph.get_tensor_by_name(\"deep_car/steering_abs_pred:0\")\n",
    "    \n",
    "    def predictSteering(self,img):\n",
    "        steering_pred_abs, = self.sess.run(\n",
    "            [ self.steering_abs_pred], \n",
    "            feed_dict={\n",
    "                self.x_img: img,\n",
    "            }\n",
    "        )\n",
    "        return steering_pred_abs\n",
    "\n",
    "nn = DistNN()"
   ]
  },
  {
   "cell_type": "code",
   "execution_count": 5,
   "metadata": {
    "collapsed": true
   },
   "outputs": [],
   "source": [
    "def rad2deg(rad_value):\n",
    "    return (rad_value + np.pi/2) / np.pi * 180\n",
    "\n",
    "def deg2rad(deg_value):\n",
    "    return deg_value/180.0 * np.pi - np.pi/2.0"
   ]
  },
  {
   "cell_type": "markdown",
   "metadata": {},
   "source": [
    "# Car\n",
    "\n",
    "This class represents the car and gives an interface for changing the speed and steering.\n",
    "Also the callbacks for relevant ROS topics are defined in that class.\n",
    "An instance of the neuronal network is created for every Car object and and used for making predections based\n",
    "on the images from the front camera. \n",
    "The class also takes care of normalizing images for the neuronal network."
   ]
  },
  {
   "cell_type": "code",
   "execution_count": 6,
   "metadata": {
    "scrolled": true
   },
   "outputs": [
    {
     "data": {
      "image/png": "[encoded data removed]",
      "text/plain": [
       "<matplotlib.figure.Figure at 0x7f10f8982e90>"
      ]
     },
     "metadata": {},
     "output_type": "display_data"
    },
    {
     "name": "stdout",
     "output_type": "stream",
     "text": [
      "Speed : 0 | Steering : 62 | Last Action : 0\n",
      "1455209017.65\n"
     ]
    }
   ],
   "source": [
    "class Car:\n",
    "\n",
    "    def __init__(self):\n",
    "        self.msg_timestamps = []\n",
    "        self.speed = 0\n",
    "        self.steering = 90\n",
    "        self.current_steering = None\n",
    "        self.crop_img = None\n",
    "        self.driveNN = DistNN()\n",
    "        self.dist_prob = None\n",
    "        self.last_action = 0\n",
    "        \n",
    "        self.steering_pub = rospy.Publisher(\"/manual_control/steering\", Int16, queue_size=10)\n",
    "        self.speed_pub = rospy.Publisher(\"/manual_control/speed\", Int16, queue_size=10)\n",
    "        rospy.topics.Subscriber(\"/manual_control/speed\", Int16, self.setSpeed)\n",
    "        rospy.topics.Subscriber(\"/manual_control/steering\", Int16, self.setSteering)\n",
    "        rospy.topics.Subscriber(\"/deepcar/crop_img64x48/compressed\", CompressedImage, self.processCropImg, queue_size=1)\n",
    "        \n",
    "    def setSpeed(self, speed):\n",
    "        self.speed = speed.data\n",
    "    \n",
    "    def stop(self):\n",
    "        self.pubSpeed(0)\n",
    "    \n",
    "    def driveSlow(self, direction=1):\n",
    "        self.pubSpeed(direction * -150)\n",
    "    \n",
    "    def driveAverage(self, direction=1):\n",
    "        self.pubSpeed(direction * -200)\n",
    "    \n",
    "    def driveFast(self, direction=1):\n",
    "        self.pubSpeed(direction * -280)\n",
    "    \n",
    "    def setSteering(self, steering):\n",
    "        self.steering = steering.data\n",
    "    \n",
    "    def processCropImg(self,msg):\n",
    "        self.msg_timestamps.append(msg.header.stamp.to_sec())\n",
    "        print(msg.header.stamp.to_sec())\n",
    "        img_nn, img = self.extractImgFrom(msg)\n",
    "        self.crop_img = img\n",
    "        self.monitorCar()\n",
    "        p_distr = self.updateSteering(img_nn)\n",
    "    \n",
    "    def updateSteering(self,img):\n",
    "        steering = self.driveNN.predictSteering(img)\n",
    "        deg_steering = rad2deg(-steering)\n",
    "        self.pubSteering(deg_steering)\n",
    "           \n",
    "    def pubSteering(self, deg_value):\n",
    "        self.steering_pub.publish(deg_value)\n",
    "    \n",
    "    def getNormSteering(self):\n",
    "        return np.array([[self.steering / 180.0 * np.pi - np.pi/2]])\n",
    "    \n",
    "    def pubSpeed(self, speed):\n",
    "        self.speed_pub.publish(speed)\n",
    "    \n",
    "    def extractImgFrom(self,msg):\n",
    "        img_bytes = BytesIO(msg.data)\n",
    "        img = PIL.Image.open(img_bytes)\n",
    "        img = np.array(img)\n",
    "        img_nn = img[np.newaxis,:,:,np.newaxis]\n",
    "        return img_nn / (255/2.0) -1, img\n",
    "    \n",
    "    def monitorCar(self):\n",
    "        clear_output(wait=True)\n",
    "        fig,ax = plt.subplots(1,2)\n",
    "        ax[0].imshow(self.crop_img)\n",
    "        #self.plotPrediction(ax[1])\n",
    "        plt.show()\n",
    "        print(\"Speed : %d | Steering : %d | Last Action : %d\" %(self.speed, self.steering, self.last_action))\n",
    "        \n",
    "    def plotPrediction(self,ax):\n",
    "        if self.dist_prob is None:\n",
    "            return\n",
    "        ax.bar(np.arange(0, len(self.dist_prob[0])), np.exp(self.dist_prob[0]))\n",
    "        ax.set_xlabel(\"distance\")\n",
    "        ax.set_ylabel(\"probability of steering\")\n",
    "\n",
    "    def hzFromHistory(self):\n",
    "        if len(self.msg_timestamps)<22:\n",
    "            return None\n",
    "        delta_t = []\n",
    "        for i in range(1,HISTORY_LENGTH+1):\n",
    "            delta_t.append(float(self.msg_timestamps[-i]) - float(self.msg_timestamps[-(i+1)]))\n",
    "        return sum(delta_t) / HISTORY_LENGTH\n",
    "\n",
    "    def distPerMessage(self):\n",
    "        return self.hzFromHistory() * self.speed\n",
    "\n",
    "car = Car()"
   ]
  },
  {
   "cell_type": "code",
   "execution_count": 17,
   "metadata": {},
   "outputs": [
    {
     "data": {
      "image/png": "[encoded data removed]",
      "text/plain": [
       "<matplotlib.figure.Figure at 0x7f10f8a75ed0>"
      ]
     },
     "metadata": {},
     "output_type": "display_data"
    },
    {
     "name": "stdout",
     "output_type": "stream",
     "text": [
      "Speed : -150 | Steering : 115 | Last Action : 0\n",
      "1455209341.87\n"
     ]
    }
   ],
   "source": [
    "car.pubSteering(90)\n",
    "car.driveSlow()"
   ]
  },
  {
   "cell_type": "code",
   "execution_count": 18,
   "metadata": {},
   "outputs": [
    {
     "data": {
      "image/png": "[encoded data removed]",
      "text/plain": [
       "<matplotlib.figure.Figure at 0x7f10f8a847d0>"
      ]
     },
     "metadata": {},
     "output_type": "display_data"
    },
    {
     "name": "stdout",
     "output_type": "stream",
     "text": [
      "Speed : 0 | Steering : 91 | Last Action : 0\n"
     ]
    }
   ],
   "source": [
    "car.stop()"
   ]
  },
  {
   "cell_type": "code",
   "execution_count": null,
   "metadata": {
    "collapsed": true,
    "scrolled": true
   },
   "outputs": [],
   "source": [
    "rospy.spin()"
   ]
  },
  {
   "cell_type": "code",
   "execution_count": null,
   "metadata": {
    "collapsed": true
   },
   "outputs": [],
   "source": []
  }
 ],
 "metadata": {
  "kernelspec": {
   "display_name": "Python 2",
   "language": "python",
   "name": "python2"
  },
  "language_info": {
   "codemirror_mode": {
    "name": "ipython",
    "version": 2
   },
   "file_extension": ".py",
   "mimetype": "text/x-python",
   "name": "python",
   "nbconvert_exporter": "python",
   "pygments_lexer": "ipython2",
   "version": "2.7.6"
  }
 },
 "nbformat": 4,
 "nbformat_minor": 2
}
